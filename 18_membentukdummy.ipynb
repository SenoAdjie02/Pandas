{
 "cells": [
  {
   "cell_type": "code",
   "execution_count": 1,
   "id": "dd65e907",
   "metadata": {},
   "outputs": [
    {
     "name": "stdout",
     "output_type": "stream",
     "text": [
      "2.3.3\n",
      "2.3.4\n"
     ]
    }
   ],
   "source": [
    "import pandas as pd\n",
    "import numpy as np\n",
    "\n",
    "print(pd.__version__)\n",
    "print(np.__version__)"
   ]
  },
  {
   "cell_type": "code",
   "execution_count": 2,
   "id": "b2790330",
   "metadata": {},
   "outputs": [
    {
     "data": {
      "text/html": [
       "<div>\n",
       "<style scoped>\n",
       "    .dataframe tbody tr th:only-of-type {\n",
       "        vertical-align: middle;\n",
       "    }\n",
       "\n",
       "    .dataframe tbody tr th {\n",
       "        vertical-align: top;\n",
       "    }\n",
       "\n",
       "    .dataframe thead th {\n",
       "        text-align: right;\n",
       "    }\n",
       "</style>\n",
       "<table border=\"1\" class=\"dataframe\">\n",
       "  <thead>\n",
       "    <tr style=\"text-align: right;\">\n",
       "      <th></th>\n",
       "      <th>col1</th>\n",
       "      <th>col2</th>\n",
       "    </tr>\n",
       "  </thead>\n",
       "  <tbody>\n",
       "    <tr>\n",
       "      <th>0</th>\n",
       "      <td>1</td>\n",
       "      <td>5</td>\n",
       "    </tr>\n",
       "    <tr>\n",
       "      <th>1</th>\n",
       "      <td>2</td>\n",
       "      <td>6</td>\n",
       "    </tr>\n",
       "    <tr>\n",
       "      <th>2</th>\n",
       "      <td>3</td>\n",
       "      <td>7</td>\n",
       "    </tr>\n",
       "    <tr>\n",
       "      <th>3</th>\n",
       "      <td>4</td>\n",
       "      <td>8</td>\n",
       "    </tr>\n",
       "  </tbody>\n",
       "</table>\n",
       "</div>"
      ],
      "text/plain": [
       "   col1  col2\n",
       "0     1     5\n",
       "1     2     6\n",
       "2     3     7\n",
       "3     4     8"
      ]
     },
     "execution_count": 2,
     "metadata": {},
     "output_type": "execute_result"
    }
   ],
   "source": [
    "pd.DataFrame({'col1':[1, 2, 3, 4], \n",
    "              'col2':[5, 6, 7, 8]})"
   ]
  },
  {
   "cell_type": "code",
   "execution_count": 3,
   "id": "f715f0dd",
   "metadata": {},
   "outputs": [
    {
     "data": {
      "text/plain": [
       "array([[ 1,  2,  2],\n",
       "       [ 8,  2, 10],\n",
       "       [11,  2,  8],\n",
       "       [17, 13,  9],\n",
       "       [ 7,  6, 12]], dtype=int32)"
      ]
     },
     "execution_count": 3,
     "metadata": {},
     "output_type": "execute_result"
    }
   ],
   "source": [
    "n_rows = 5\n",
    "n_cols = 3\n",
    "\n",
    "arr = np.random.randint(1, 20, size=(n_rows, n_cols))\n",
    "arr"
   ]
  },
  {
   "cell_type": "code",
   "execution_count": 4,
   "id": "a301a9ed",
   "metadata": {},
   "outputs": [
    {
     "data": {
      "text/html": [
       "<div>\n",
       "<style scoped>\n",
       "    .dataframe tbody tr th:only-of-type {\n",
       "        vertical-align: middle;\n",
       "    }\n",
       "\n",
       "    .dataframe tbody tr th {\n",
       "        vertical-align: top;\n",
       "    }\n",
       "\n",
       "    .dataframe thead th {\n",
       "        text-align: right;\n",
       "    }\n",
       "</style>\n",
       "<table border=\"1\" class=\"dataframe\">\n",
       "  <thead>\n",
       "    <tr style=\"text-align: right;\">\n",
       "      <th></th>\n",
       "      <th>A</th>\n",
       "      <th>B</th>\n",
       "      <th>C</th>\n",
       "    </tr>\n",
       "  </thead>\n",
       "  <tbody>\n",
       "    <tr>\n",
       "      <th>0</th>\n",
       "      <td>1</td>\n",
       "      <td>2</td>\n",
       "      <td>2</td>\n",
       "    </tr>\n",
       "    <tr>\n",
       "      <th>1</th>\n",
       "      <td>8</td>\n",
       "      <td>2</td>\n",
       "      <td>10</td>\n",
       "    </tr>\n",
       "    <tr>\n",
       "      <th>2</th>\n",
       "      <td>11</td>\n",
       "      <td>2</td>\n",
       "      <td>8</td>\n",
       "    </tr>\n",
       "    <tr>\n",
       "      <th>3</th>\n",
       "      <td>17</td>\n",
       "      <td>13</td>\n",
       "      <td>9</td>\n",
       "    </tr>\n",
       "    <tr>\n",
       "      <th>4</th>\n",
       "      <td>7</td>\n",
       "      <td>6</td>\n",
       "      <td>12</td>\n",
       "    </tr>\n",
       "  </tbody>\n",
       "</table>\n",
       "</div>"
      ],
      "text/plain": [
       "    A   B   C\n",
       "0   1   2   2\n",
       "1   8   2  10\n",
       "2  11   2   8\n",
       "3  17  13   9\n",
       "4   7   6  12"
      ]
     },
     "execution_count": 4,
     "metadata": {},
     "output_type": "execute_result"
    }
   ],
   "source": [
    "pd.DataFrame(arr, columns=tuple('ABC'))"
   ]
  },
  {
   "cell_type": "code",
   "execution_count": 5,
   "id": "0e572f42",
   "metadata": {},
   "outputs": [
    {
     "name": "stdout",
     "output_type": "stream",
     "text": [
      "          A         B         C         D\n",
      "0 -0.017509  1.402208  1.009884  0.594522\n",
      "1 -1.300337 -1.039957  0.336104 -0.621128\n",
      "2  0.369844  0.222884 -2.072748  0.973135\n",
      "3  0.109483  1.259781 -1.115981 -1.185194\n",
      "4  1.227604  0.199369  0.454163 -1.371241\n"
     ]
    }
   ],
   "source": [
    "n_rows = 30 \n",
    "n_cols = 4 \n",
    "columns = list('ABCD')\n",
    "\n",
    "data = np.random.randn(n_rows, n_cols)\n",
    "\n",
    "df = pd.DataFrame(data, columns=columns)\n",
    "\n",
    "print(df.head())"
   ]
  },
  {
   "cell_type": "code",
   "execution_count": 6,
   "id": "8cc85a6e",
   "metadata": {},
   "outputs": [
    {
     "name": "stdout",
     "output_type": "stream",
     "text": [
      "          A  B          C     D\n",
      "0  0.610322  1 2024-01-01   foo\n",
      "1  1.361996  2 2024-01-02   bar\n",
      "2 -0.526666  3 2024-01-03   baz\n",
      "3  0.204251  4 2024-01-04   qux\n",
      "4 -0.013711  5 2024-01-05  quux\n"
     ]
    }
   ],
   "source": [
    "n_rows = 5 \n",
    "\n",
    "data = {\n",
    "    'A': np.random.randn(n_rows),                 \n",
    "    'B': np.arange(1, n_rows + 1),                \n",
    "    'C': pd.date_range('2024-01-01', periods=n_rows), \n",
    "    'D': ['foo', 'bar', 'baz', 'qux', 'quux']    \n",
    "}\n",
    "\n",
    "df = pd.DataFrame(data)\n",
    "\n",
    "print(df.head())"
   ]
  },
  {
   "cell_type": "code",
   "execution_count": 7,
   "id": "6d78ffe0",
   "metadata": {},
   "outputs": [
    {
     "name": "stdout",
     "output_type": "stream",
     "text": [
      "                   A         B         C         D\n",
      "2024-01-01 -0.555647 -0.417285  0.223504 -0.602188\n",
      "2024-01-02  0.516726 -0.711494 -0.120708  0.862707\n",
      "2024-01-03 -0.232922  0.035119 -0.328699 -0.045059\n",
      "2024-01-04  1.398299 -1.661122  0.589088  3.030031\n",
      "2024-01-05  0.377190  0.577023 -0.870832 -0.118288\n"
     ]
    }
   ],
   "source": [
    "n_rows = 30  \n",
    "n_cols = 4   \n",
    "columns = list('ABCD')  \n",
    "\n",
    "time_index = pd.date_range(start='2024-01-01', periods=n_rows, freq='D')  \n",
    "\n",
    "df = pd.DataFrame(np.random.randn(n_rows, n_cols), index=time_index, columns=columns)\n",
    "\n",
    "print(df.head())"
   ]
  },
  {
   "cell_type": "code",
   "execution_count": 8,
   "id": "2678eda6",
   "metadata": {},
   "outputs": [
    {
     "name": "stdout",
     "output_type": "stream",
     "text": [
      "          A         B         C         D\n",
      "0  0.859788       NaN  1.038417  0.377767\n",
      "1  0.977326  0.786460  0.271325  1.622513\n",
      "2 -2.140112 -0.727274  1.080940       NaN\n",
      "3  1.648118 -1.778144 -0.247429 -0.882662\n",
      "4       NaN -0.135574  1.238062 -0.012009\n"
     ]
    }
   ],
   "source": [
    "n_rows = 5\n",
    "n_cols = 4\n",
    "\n",
    "data = np.random.randn(n_rows, n_cols)\n",
    "\n",
    "df = pd.DataFrame(data, columns=list('ABCD'))\n",
    "\n",
    "df.iloc[0, 1] = np.nan\n",
    "df.iloc[2, 3] = np.nan\n",
    "df.iloc[4, 0] = np.nan\n",
    "\n",
    "print(df.head())"
   ]
  }
 ],
 "metadata": {
  "kernelspec": {
   "display_name": "Python 3",
   "language": "python",
   "name": "python3"
  },
  "language_info": {
   "codemirror_mode": {
    "name": "ipython",
    "version": 3
   },
   "file_extension": ".py",
   "mimetype": "text/x-python",
   "name": "python",
   "nbconvert_exporter": "python",
   "pygments_lexer": "ipython3",
   "version": "3.12.6"
  }
 },
 "nbformat": 4,
 "nbformat_minor": 5
}
